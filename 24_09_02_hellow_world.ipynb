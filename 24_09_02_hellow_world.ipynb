{
  "nbformat": 4,
  "nbformat_minor": 0,
  "metadata": {
    "colab": {
      "provenance": []
    },
    "kernelspec": {
      "name": "python3",
      "display_name": "Python 3"
    },
    "language_info": {
      "name": "python"
    }
  },
  "cells": [
    {
      "cell_type": "code",
      "execution_count": null,
      "metadata": {
        "id": "dl2eOXsmYWfH",
        "outputId": "44649e4d-75d4-4f48-ee51-4c67273e8ebe",
        "colab": {
          "base_uri": "https://localhost:8080/"
        }
      },
      "outputs": [
        {
          "output_type": "stream",
          "name": "stdout",
          "text": [
            "Hellow World\n"
          ]
        }
      ],
      "source": [
        "print(\"Hellow World\")"
      ]
    },
    {
      "cell_type": "code",
      "source": [
        "print(\"Computer Programming basic class\")"
      ],
      "metadata": {
        "colab": {
          "base_uri": "https://localhost:8080/"
        },
        "id": "qQ2URCy_dnOK",
        "outputId": "a97acca1-cdca-483b-f7f1-838d91e9a8c3"
      },
      "execution_count": null,
      "outputs": [
        {
          "output_type": "stream",
          "name": "stdout",
          "text": [
            "Computer Programming basic class\n"
          ]
        }
      ]
    },
    {
      "cell_type": "code",
      "source": [
        "#many power mode 는 조심해서 사용하세요\n",
        "#no ppower mode 에서도 코딩이 가능할까요?\n",
        "#중간정도의 힘으로 코드를 잘 만들어 봅시다."
      ],
      "metadata": {
        "id": "ohylbRuqi0sT"
      },
      "execution_count": null,
      "outputs": []
    }
  ]
}